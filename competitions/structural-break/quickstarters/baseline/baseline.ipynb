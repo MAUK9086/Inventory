{
  "cells": [
    {
      "cell_type": "markdown",
      "metadata": {
        "id": "AvWIItAe-0fN"
      },
      "source": [
        "[![Open In Colab](https://raw.githubusercontent.com/crunchdao/competitions/refs/heads/master/documentation/badge/open-in-colab.svg)](https://colab.research.google.com/github/crunchdao/quickstarters/blob/master/competitions/structural-break/quickstarters/baseline/baseline.ipynb)\n",
        "[![Open In Kaggle](https://raw.githubusercontent.com/crunchdao/competitions/refs/heads/master/documentation/badge/open-in-kaggle.svg)](https://www.kaggle.com/code/crunchdao/structural-break-baseline)"
      ]
    },
    {
      "cell_type": "markdown",
      "metadata": {
        "id": "pNUXnJa_-0fO"
      },
      "source": [
        "![Banner](https://raw.githubusercontent.com/crunchdao/quickstarters/refs/heads/master/competitions/structural-break/assets/banner.webp)"
      ]
    },
    {
      "cell_type": "markdown",
      "metadata": {
        "id": "lurIF1Ve-0fP"
      },
      "source": [
        "# ADIA Lab Structural Break Challenge\n",
        "\n",
        "## Challenge Overview\n",
        "\n",
        "Welcome to the ADIA Lab Structural Break Challenge! In this challenge, you will analyze univariate time series data to determine whether a structural break has occurred at a specified boundary point.\n",
        "\n",
        "### What is a Structural Break?\n",
        "\n",
        "A structural break occurs when the process governing the data generation changes at a certain point in time. These changes can be subtle or dramatic, and detecting them accurately is crucial across various domains such as climatology, industrial monitoring, finance, and healthcare.\n",
        "\n",
        "![Structural Break Example](https://raw.githubusercontent.com/crunchdao/competitions/refs/heads/master/competitions/structural-break/quickstarters/baseline/images/example.png)\n",
        "\n",
        "### Your Task\n",
        "\n",
        "For each time series in the test set, you need to predict a score between `0` and `1`:\n",
        "- Values closer to `0` indicate no structural break at the specified boundary point;\n",
        "- Values closer to `1` indicate a structural break did occur.\n",
        "\n",
        "### Evaluation Metric\n",
        "\n",
        "The evaluation metric is [ROC AUC (Area Under the Receiver Operating Characteristic Curve)](https://scikit-learn.org/stable/modules/generated/sklearn.metrics.roc_auc_score.html), which measures the performance of detection algorithms regardless of their specific calibration.\n",
        "\n",
        "- ROC AUC around `0.5`: No better than random chance;\n",
        "- ROC AUC approaching `1.0`: Perfect detection."
      ]
    },
    {
      "cell_type": "markdown",
      "metadata": {
        "id": "zVmP4SA-Wc4U"
      },
      "source": [
        "# Setup\n",
        "\n",
        "The first steps to get started are:\n",
        "1. Get the setup command\n",
        "2. Execute it in the cell below\n",
        "\n",
        "### >> https://hub.crunchdao.com/competitions/structural-break/submit/notebook\n",
        "\n",
        "![Reveal token](https://raw.githubusercontent.com/crunchdao/competitions/refs/heads/master/documentation/animations/reveal-token.gif)"
      ]
    },
    {
      "cell_type": "code",
      "execution_count": null,
      "metadata": {
        "id": "7DUeixiC_IJM"
      },
      "outputs": [],
      "source": [
        "# Install the Crunch CLI\n",
        "%pip install --upgrade crunch-cli\n",
        "\n",
        "# Setup your local environment\n",
        "!crunch setup --notebook structural-break hello --token aaaabbbbccccddddeeeeffff"
      ]
    },
    {
      "cell_type": "markdown",
      "metadata": {
        "id": "1IBhw7hv-0fQ"
      },
      "source": [
        "# Your model"
      ]
    },
    {
      "cell_type": "markdown",
      "metadata": {
        "id": "EpLeMWSw-0fQ"
      },
      "source": [
        "## Setup"
      ]
    },
    {
      "cell_type": "code",
      "execution_count": null,
      "metadata": {
        "ExecuteTime": {
          "end_time": "2024-11-18T09:52:21.302334Z",
          "start_time": "2024-11-18T09:52:18.268241Z"
        },
        "id": "MKqz-6Zw-0fR"
      },
      "outputs": [],
      "source": [
        "import os\n",
        "import typing\n",
        "\n",
        "# Import your dependencies\n",
        "import joblib\n",
        "import pandas as pd\n",
        "import scipy\n",
        "import sklearn.metrics"
      ]
    },
    {
      "cell_type": "code",
      "execution_count": null,
      "metadata": {
        "id": "xjD_WSAS-0fR"
      },
      "outputs": [],
      "source": [
        "import crunch\n",
        "\n",
        "# Load the Crunch Toolings\n",
        "crunch = crunch.load_notebook()"
      ]
    },
    {
      "cell_type": "markdown",
      "metadata": {
        "id": "IiKJODFx-0fR"
      },
      "source": [
        "## Understanding the Data\n",
        "\n",
        "The dataset consists of univariate time series, each containing ~2,000-5,000 values with a designated boundary point. For each time series, you need to determine whether a structural break occurred at this boundary point.\n",
        "\n",
        "The data was downloaded when you setup your local environment and is now available in the `data/` directory."
      ]
    },
    {
      "cell_type": "code",
      "execution_count": null,
      "metadata": {
        "id": "RKHXgvjN-0fS"
      },
      "outputs": [],
      "source": [
        "# Load the data simply\n",
        "X_train, y_train, X_test = crunch.load_data()"
      ]
    },
    {
      "cell_type": "markdown",
      "metadata": {
        "id": "7T_JmgMq-0fS"
      },
      "source": [
        "### Understanding `X_train`\n",
        "\n",
        "The training data is structured as a pandas DataFrame with a MultiIndex:\n",
        "\n",
        "**Index Levels:**\n",
        "- `id`: Identifies the unique time series\n",
        "- `time`: (arbitrary) The time step within each time series, which is regularly sampled\n",
        "\n",
        "**Columns:**\n",
        "- `value`: The values of the time series at each given time step\n",
        "- `period`: whether you are in the first part of the time series (`0`), before the presumed break point, or in the second part (`1`), after the break point"
      ]
    },
    {
      "cell_type": "code",
      "execution_count": null,
      "metadata": {
        "colab": {
          "base_uri": "https://localhost:8080/",
          "height": 455
        },
        "id": "0oRCTnOb-0fS",
        "outputId": "2d0663ba-76b2-4937-d7fc-e6c314784242"
      },
      "outputs": [
        {
          "data": {
            "text/html": [
              "<div>\n",
              "<style scoped>\n",
              "    .dataframe tbody tr th:only-of-type {\n",
              "        vertical-align: middle;\n",
              "    }\n",
              "\n",
              "    .dataframe tbody tr th {\n",
              "        vertical-align: top;\n",
              "    }\n",
              "\n",
              "    .dataframe thead th {\n",
              "        text-align: right;\n",
              "    }\n",
              "</style>\n",
              "<table border=\"1\" class=\"dataframe\">\n",
              "  <thead>\n",
              "    <tr style=\"text-align: right;\">\n",
              "      <th></th>\n",
              "      <th></th>\n",
              "      <th>value</th>\n",
              "      <th>period</th>\n",
              "    </tr>\n",
              "    <tr>\n",
              "      <th>id</th>\n",
              "      <th>time</th>\n",
              "      <th></th>\n",
              "      <th></th>\n",
              "    </tr>\n",
              "  </thead>\n",
              "  <tbody>\n",
              "    <tr>\n",
              "      <th rowspan=\"5\" valign=\"top\">0</th>\n",
              "      <th>0</th>\n",
              "      <td>0.001858</td>\n",
              "      <td>0</td>\n",
              "    </tr>\n",
              "    <tr>\n",
              "      <th>1</th>\n",
              "      <td>-0.001664</td>\n",
              "      <td>0</td>\n",
              "    </tr>\n",
              "    <tr>\n",
              "      <th>2</th>\n",
              "      <td>-0.004386</td>\n",
              "      <td>0</td>\n",
              "    </tr>\n",
              "    <tr>\n",
              "      <th>3</th>\n",
              "      <td>0.000699</td>\n",
              "      <td>0</td>\n",
              "    </tr>\n",
              "    <tr>\n",
              "      <th>4</th>\n",
              "      <td>-0.002433</td>\n",
              "      <td>0</td>\n",
              "    </tr>\n",
              "    <tr>\n",
              "      <th>...</th>\n",
              "      <th>...</th>\n",
              "      <td>...</td>\n",
              "      <td>...</td>\n",
              "    </tr>\n",
              "    <tr>\n",
              "      <th rowspan=\"5\" valign=\"top\">10000</th>\n",
              "      <th>1890</th>\n",
              "      <td>-0.005903</td>\n",
              "      <td>1</td>\n",
              "    </tr>\n",
              "    <tr>\n",
              "      <th>1891</th>\n",
              "      <td>0.007295</td>\n",
              "      <td>1</td>\n",
              "    </tr>\n",
              "    <tr>\n",
              "      <th>1892</th>\n",
              "      <td>0.003527</td>\n",
              "      <td>1</td>\n",
              "    </tr>\n",
              "    <tr>\n",
              "      <th>1893</th>\n",
              "      <td>0.007218</td>\n",
              "      <td>1</td>\n",
              "    </tr>\n",
              "    <tr>\n",
              "      <th>1894</th>\n",
              "      <td>0.000034</td>\n",
              "      <td>1</td>\n",
              "    </tr>\n",
              "  </tbody>\n",
              "</table>\n",
              "<p>23802099 rows × 2 columns</p>\n",
              "</div>"
            ],
            "text/plain": [
              "               value  period\n",
              "id    time                  \n",
              "0     0     0.001858       0\n",
              "      1    -0.001664       0\n",
              "      2    -0.004386       0\n",
              "      3     0.000699       0\n",
              "      4    -0.002433       0\n",
              "...              ...     ...\n",
              "10000 1890 -0.005903       1\n",
              "      1891  0.007295       1\n",
              "      1892  0.003527       1\n",
              "      1893  0.007218       1\n",
              "      1894  0.000034       1\n",
              "\n",
              "[23802099 rows x 2 columns]"
            ]
          },
          "execution_count": 15,
          "metadata": {},
          "output_type": "execute_result"
        }
      ],
      "source": [
        "X_train"
      ]
    },
    {
      "cell_type": "markdown",
      "metadata": {
        "id": "6WP39dgx-0fS"
      },
      "source": [
        "### Understanding `y_train`\n",
        "\n",
        "This is a simple `pandas.Series` that tells if a time series id has a structural break, or not, from the presumed break point on.\n",
        "\n",
        "**Index:**\n",
        "- `id`: the ID of the time series\n",
        "\n",
        "**Value:**\n",
        "- `structural_breakpoint`: Boolean indicating whether a structural break occurred (`True`) or not (`False`)"
      ]
    },
    {
      "cell_type": "code",
      "execution_count": null,
      "metadata": {
        "colab": {
          "base_uri": "https://localhost:8080/",
          "height": 490
        },
        "id": "dPsQPdIj-0fT",
        "outputId": "acd28eab-afd8-44c7-d229-d7e414f2e3c4"
      },
      "outputs": [
        {
          "data": {
            "text/plain": [
              "id\n",
              "0         True\n",
              "1         True\n",
              "2        False\n",
              "3         True\n",
              "4        False\n",
              "         ...  \n",
              "9996     False\n",
              "9997      True\n",
              "9998     False\n",
              "9999     False\n",
              "10000     True\n",
              "Name: structural_breakpoint, Length: 10001, dtype: bool"
            ]
          },
          "execution_count": 16,
          "metadata": {},
          "output_type": "execute_result"
        }
      ],
      "source": [
        "y_train"
      ]
    },
    {
      "cell_type": "markdown",
      "metadata": {
        "id": "2oSS08Ks-0fT"
      },
      "source": [
        "### Understanding `X_test`\n",
        "\n",
        "The test data is provided as a **`list` of `pandas.DataFrame`s** with the same format as [`X_train`](#understanding-X_test).\n",
        "\n",
        "It is structured as a list to encourage processing records one by one, which will be mandatory in the `infer()` function."
      ]
    },
    {
      "cell_type": "code",
      "execution_count": null,
      "metadata": {
        "colab": {
          "base_uri": "https://localhost:8080/"
        },
        "id": "8ErbKAs--0fT",
        "outputId": "5ce46294-1824-4067-be90-547189e90be3"
      },
      "outputs": [
        {
          "name": "stdout",
          "output_type": "stream",
          "text": [
            "Number of datasets: 101\n"
          ]
        }
      ],
      "source": [
        "print(\"Number of datasets:\", len(X_test))"
      ]
    },
    {
      "cell_type": "code",
      "execution_count": null,
      "metadata": {
        "colab": {
          "base_uri": "https://localhost:8080/",
          "height": 455
        },
        "id": "M_dTYXms-0fT",
        "outputId": "b3ee6375-995f-47f6-f6e5-7f08d9838820"
      },
      "outputs": [
        {
          "data": {
            "text/html": [
              "<div>\n",
              "<style scoped>\n",
              "    .dataframe tbody tr th:only-of-type {\n",
              "        vertical-align: middle;\n",
              "    }\n",
              "\n",
              "    .dataframe tbody tr th {\n",
              "        vertical-align: top;\n",
              "    }\n",
              "\n",
              "    .dataframe thead th {\n",
              "        text-align: right;\n",
              "    }\n",
              "</style>\n",
              "<table border=\"1\" class=\"dataframe\">\n",
              "  <thead>\n",
              "    <tr style=\"text-align: right;\">\n",
              "      <th></th>\n",
              "      <th></th>\n",
              "      <th>value</th>\n",
              "      <th>period</th>\n",
              "    </tr>\n",
              "    <tr>\n",
              "      <th>id</th>\n",
              "      <th>time</th>\n",
              "      <th></th>\n",
              "      <th></th>\n",
              "    </tr>\n",
              "  </thead>\n",
              "  <tbody>\n",
              "    <tr>\n",
              "      <th rowspan=\"11\" valign=\"top\">10001</th>\n",
              "      <th>0</th>\n",
              "      <td>-0.020657</td>\n",
              "      <td>0</td>\n",
              "    </tr>\n",
              "    <tr>\n",
              "      <th>1</th>\n",
              "      <td>-0.005894</td>\n",
              "      <td>0</td>\n",
              "    </tr>\n",
              "    <tr>\n",
              "      <th>2</th>\n",
              "      <td>-0.003052</td>\n",
              "      <td>0</td>\n",
              "    </tr>\n",
              "    <tr>\n",
              "      <th>3</th>\n",
              "      <td>-0.000590</td>\n",
              "      <td>0</td>\n",
              "    </tr>\n",
              "    <tr>\n",
              "      <th>4</th>\n",
              "      <td>0.009887</td>\n",
              "      <td>0</td>\n",
              "    </tr>\n",
              "    <tr>\n",
              "      <th>...</th>\n",
              "      <td>...</td>\n",
              "      <td>...</td>\n",
              "    </tr>\n",
              "    <tr>\n",
              "      <th>2517</th>\n",
              "      <td>0.005084</td>\n",
              "      <td>1</td>\n",
              "    </tr>\n",
              "    <tr>\n",
              "      <th>2518</th>\n",
              "      <td>-0.024414</td>\n",
              "      <td>1</td>\n",
              "    </tr>\n",
              "    <tr>\n",
              "      <th>2519</th>\n",
              "      <td>-0.014986</td>\n",
              "      <td>1</td>\n",
              "    </tr>\n",
              "    <tr>\n",
              "      <th>2520</th>\n",
              "      <td>0.012999</td>\n",
              "      <td>1</td>\n",
              "    </tr>\n",
              "    <tr>\n",
              "      <th>2521</th>\n",
              "      <td>-0.022138</td>\n",
              "      <td>1</td>\n",
              "    </tr>\n",
              "  </tbody>\n",
              "</table>\n",
              "<p>2522 rows × 2 columns</p>\n",
              "</div>"
            ],
            "text/plain": [
              "               value  period\n",
              "id    time                  \n",
              "10001 0    -0.020657       0\n",
              "      1    -0.005894       0\n",
              "      2    -0.003052       0\n",
              "      3    -0.000590       0\n",
              "      4     0.009887       0\n",
              "...              ...     ...\n",
              "      2517  0.005084       1\n",
              "      2518 -0.024414       1\n",
              "      2519 -0.014986       1\n",
              "      2520  0.012999       1\n",
              "      2521 -0.022138       1\n",
              "\n",
              "[2522 rows x 2 columns]"
            ]
          },
          "execution_count": 18,
          "metadata": {},
          "output_type": "execute_result"
        }
      ],
      "source": [
        "X_test[0]"
      ]
    },
    {
      "cell_type": "markdown",
      "metadata": {
        "id": "YgulFOGX-0fT"
      },
      "source": [
        "## Strategy Implementation\n",
        "\n",
        "There are multiple approaches you can take to detect structural breaks:\n",
        "\n",
        "1. **Statistical Tests**: Compare distributions before and after the boundary point;\n",
        "2. **Feature Engineering**: Extract features from both segments for comparison;\n",
        "3. **Time Series Modeling**: Detect deviations from expected patterns;\n",
        "4. **Machine Learning**: Train models to recognize break patterns from labeled examples.\n",
        "\n",
        "The baseline implementation below uses a simple statistical approach: a t-test to compare the distributions before and after the boundary point."
      ]
    },
    {
      "cell_type": "markdown",
      "source": [
        "#MY SOLUTION"
      ],
      "metadata": {
        "id": "8tOuCaBPXEck"
      }
    },
    {
      "cell_type": "code",
      "source": [],
      "metadata": {
        "id": "8TGtlMO3XIO5"
      },
      "execution_count": null,
      "outputs": []
    },
    {
      "cell_type": "markdown",
      "metadata": {
        "id": "0c13b677"
      },
      "source": [
        "# Structural Break Detection Pipeline for ADIA Lab Challenge\n",
        "This notebook implements a complete, deterministic pipeline for structural break detection, following the provided technical plan. It covers feature engineering, tabular and deep learning models, ensembling, and the required train/infer functions for competition submission."
      ]
    },
    {
      "cell_type": "markdown",
      "metadata": {
        "id": "87004a09"
      },
      "source": [
        "## 1. Environment Setup and Imports\n",
        "Import all required libraries and set global random seeds for reproducibility."
      ]
    },
    {
      "cell_type": "code",
      "execution_count": null,
      "metadata": {
        "id": "e1af0924"
      },
      "outputs": [],
      "source": [
        "# Environment Setup and Imports\n",
        "SEED = 42\n",
        "import os, random, numpy as np, pandas as pd\n",
        "random.seed(SEED)\n",
        "np.random.seed(SEED)\n",
        "os.environ['PYTHONHASHSEED'] = str(SEED)\n",
        "import scipy.stats as stats\n",
        "import statsmodels.api as sm\n",
        "import statsmodels.tsa.stattools as tsa\n",
        "import ruptures as rpt\n",
        "import pycatch22\n",
        "import pywt\n",
        "import joblib\n",
        "from tqdm import tqdm\n",
        "import lightgbm as lgb\n",
        "import torch\n",
        "import torch.nn as nn\n",
        "from sklearn.model_selection import GroupKFold\n",
        "from sklearn.metrics import roc_auc_score, log_loss, average_precision_score\n",
        "from sklearn.linear_model import LogisticRegression\n",
        "from sklearn.feature_selection import VarianceThreshold\n",
        "from sklearn.preprocessing import StandardScaler\n",
        "from sklearn.base import BaseEstimator, TransformerMixin"
      ]
    },
    {
      "cell_type": "markdown",
      "metadata": {
        "id": "d3a6bcf2"
      },
      "source": [
        "## 2. Dataset Loading and Schema Validation\n",
        "Load the training parquet files and validate the MultiIndex structure. Convert to per-series dictionaries for further processing."
      ]
    },
    {
      "cell_type": "code",
      "execution_count": null,
      "metadata": {
        "id": "015c1bfc"
      },
      "outputs": [],
      "source": [
        "# Dataset Loading and Schema Validation\n",
        "def read_dataset(X_path, y_path=None):\n",
        "    X = pd.read_parquet(X_path)\n",
        "    assert isinstance(X.index, pd.MultiIndex)\n",
        "    assert set(X.columns) >= {'value', 'period'}\n",
        "    series_dict = {}\n",
        "    for id_, group in X.groupby(level='id'):\n",
        "        time = group.index.get_level_values('time').to_numpy()\n",
        "        value = group['value'].to_numpy()\n",
        "        period = group['period'].to_numpy()\n",
        "        series_dict[id_] = {'time': time, 'value': value, 'period': period}\n",
        "    y_series = None\n",
        "    if y_path:\n",
        "        y_series = pd.read_parquet(y_path)\n",
        "        if isinstance(y_series, pd.DataFrame):\n",
        "            y_series = y_series.iloc[:,0]\n",
        "        y_series = y_series.astype(bool)\n",
        "    return series_dict, y_series\n",
        "\n",
        "# Example usage:\n",
        "# series_dict, y_series = read_dataset('X_train.parquet', 'y_train.parquet')"
      ]
    },
    {
      "cell_type": "markdown",
      "metadata": {
        "id": "bc09b8ea"
      },
      "source": [
        "## 3. Data Preprocessing Pipeline\n",
        "Implement preprocessing steps: splitting by period, NaN handling, outlier winsorization, detrending, and length normalization for CNN input."
      ]
    },
    {
      "cell_type": "code",
      "execution_count": null,
      "metadata": {
        "id": "64c6d91c"
      },
      "outputs": [],
      "source": [
        "# Data Preprocessing Pipeline\n",
        "def preprocess_series(series, L_cnn=512):\n",
        "    time, value, period = series['time'], series['value'], series['period']\n",
        "    boundary = np.argmax(period == 1)\n",
        "    x_pre = value[period == 0]\n",
        "    x_post = value[period == 1]\n",
        "    # NaN handling\n",
        "    x_pre = pd.Series(x_pre).interpolate().fillna(method='bfill').fillna(method='ffill').to_numpy()\n",
        "    x_post = pd.Series(x_post).interpolate().fillna(method='bfill').fillna(method='ffill').to_numpy()\n",
        "    n_missing_pre = np.isnan(x_pre).sum()\n",
        "    n_missing_post = np.isnan(x_post).sum()\n",
        "    # Winsorization\n",
        "    def winsorize(x):\n",
        "        q_low, q_high = np.quantile(x, [0.001, 0.999])\n",
        "        return np.clip(x, q_low, q_high)\n",
        "    x_pre_w = winsorize(x_pre)\n",
        "    x_post_w = winsorize(x_post)\n",
        "    n_winsorized_pre = (x_pre != x_pre_w).sum()\n",
        "    n_winsorized_post = (x_post != x_post_w).sum()\n",
        "    # Detrending\n",
        "    def detrend(x, t):\n",
        "        p = np.polyfit(t, x, 1)\n",
        "        return x - np.polyval(p, t)\n",
        "    x_pre_dt = detrend(x_pre_w, np.arange(len(x_pre_w)))\n",
        "    x_post_dt = detrend(x_post_w, np.arange(len(x_post_w)))\n",
        "    # Length normalization for CNN\n",
        "    def resample(x, L):\n",
        "        idx = np.linspace(0, len(x)-1, L)\n",
        "        return np.interp(idx, np.arange(len(x)), x)\n",
        "    x_pre_cnn = (resample(x_pre_w, L_cnn) - np.mean(x_pre_w)) / (np.std(x_pre_w) + 1e-8)\n",
        "    x_post_cnn = (resample(x_post_w, L_cnn) - np.mean(x_post_w)) / (np.std(x_post_w) + 1e-8)\n",
        "    return {\n",
        "        'x_pre': x_pre_w, 'x_post': x_post_w,\n",
        "        'x_pre_dt': x_pre_dt, 'x_post_dt': x_post_dt,\n",
        "        'x_pre_cnn': x_pre_cnn, 'x_post_cnn': x_post_cnn,\n",
        "        'n_missing_pre': n_missing_pre, 'n_missing_post': n_missing_post,\n",
        "        'n_winsorized_pre': n_winsorized_pre, 'n_winsorized_post': n_winsorized_post,\n",
        "        'len_pre': len(x_pre), 'len_post': len(x_post)\n",
        "    }"
      ]
    },
    {
      "cell_type": "markdown",
      "metadata": {
        "id": "2b81d98f"
      },
      "source": [
        "## 4. Feature Engineering - Statistical Features\n",
        "Extract comprehensive statistical features including descriptive stats, distribution tests, autocorrelation, and frequency domain features."
      ]
    },
    {
      "cell_type": "code",
      "execution_count": null,
      "metadata": {
        "id": "fbe3f88e"
      },
      "outputs": [],
      "source": [
        "# Feature Engineering - Statistical Features\n",
        "def extract_stat_features(pre, post, pre_dt, post_dt):\n",
        "    eps = 1e-8\n",
        "    feats = {}\n",
        "    # Basic stats\n",
        "    for name, x, y in [('raw', pre, post), ('detr', pre_dt, post_dt)]:\n",
        "        for seg, arr in [('pre', x), ('post', y)]:\n",
        "            feats[f'{name}_mean_{seg}'] = np.mean(arr)\n",
        "            feats[f'{name}_median_{seg}'] = np.median(arr)\n",
        "            feats[f'{name}_var_{seg}'] = np.var(arr, ddof=1)\n",
        "            feats[f'{name}_std_{seg}'] = np.std(arr, ddof=1)\n",
        "            feats[f'{name}_min_{seg}'] = np.min(arr)\n",
        "            feats[f'{name}_max_{seg}'] = np.max(arr)\n",
        "            feats[f'{name}_range_{seg}'] = np.max(arr) - np.min(arr)\n",
        "            feats[f'{name}_mad_{seg}'] = np.median(np.abs(arr - np.median(arr)))\n",
        "            feats[f'{name}_skew_{seg}'] = stats.skew(arr)\n",
        "            feats[f'{name}_kurt_{seg}'] = stats.kurtosis(arr)\n",
        "            feats[f'{name}_zero_ct_{seg}'] = (arr == 0).sum()\n",
        "            feats[f'{name}_unique_ct_{seg}'] = np.unique(arr).size\n",
        "            feats[f'{name}_energy_{seg}'] = np.sum(arr**2)\n",
        "            # Quantiles\n",
        "            for q in [0.01,0.05,0.10,0.25,0.5,0.75,0.90,0.95,0.99]:\n",
        "                feats[f'{name}_q{int(q*100)}_{seg}'] = np.quantile(arr, q)\n",
        "            feats[f'{name}_iqr_{seg}'] = np.quantile(arr,0.75)-np.quantile(arr,0.25)\n",
        "        # Comparative features\n",
        "        for f in ['mean','median','var','std','min','max','range','mad','skew','kurt','energy']:\n",
        "            feats[f'{name}_{f}_diff'] = feats[f'{name}_{f}_post'] - feats[f'{name}_{f}_pre']\n",
        "            feats[f'{name}_{f}_ratio'] = feats[f'{name}_{f}_post'] / (feats[f'{name}_{f}_pre'] + eps)\n",
        "            feats[f'{name}_{f}_absdiff'] = np.abs(feats[f'{name}_{f}_post'] - feats[f'{name}_{f}_pre'])\n",
        "    # Two-sample tests\n",
        "    t_stat, p_t = stats.ttest_ind(pre, post, equal_var=False)\n",
        "    ks_stat, p_ks = stats.ks_2samp(pre, post)\n",
        "    u_stat, p_u = stats.mannwhitneyu(pre, post, alternative='two-sided')\n",
        "    levene_stat, p_levene = stats.levene(pre, post, center='median')\n",
        "    chi2_stat, p_chi2 = stats.chisquare(np.histogram(pre, bins=20)[0], np.histogram(post, bins=20)[0])\n",
        "    feats.update({\n",
        "        't_stat': t_stat, 't_logp': -np.log10(p_t+1e-300),\n",
        "        'ks_stat': ks_stat, 'ks_logp': -np.log10(p_ks+1e-300),\n",
        "        'u_stat': u_stat, 'u_logp': -np.log10(p_u+1e-300),\n",
        "        'levene_stat': levene_stat, 'levene_logp': -np.log10(p_levene+1e-300),\n",
        "        'chi2_stat': chi2_stat, 'chi2_logp': -np.log10(p_chi2+1e-300),\n",
        "        'wasserstein': stats.wasserstein_distance(pre, post),\n",
        "        'energy': stats.energy_distance(pre, post)\n",
        "    })\n",
        "    # Temporal dependence\n",
        "    acf_pre = tsa.acf(pre, nlags=10, fft=True)\n",
        "    acf_post = tsa.acf(post, nlags=10, fft=True)\n",
        "    feats['acf_lag1_diff'] = acf_post[1] - acf_pre[1]\n",
        "    feats['acf_lag1_ratio'] = acf_post[1] / (acf_pre[1] + eps)\n",
        "    # Frequency features\n",
        "    fft_pre = np.fft.rfft(pre)\n",
        "    fft_post = np.fft.rfft(post)\n",
        "    power_pre = np.abs(fft_pre)**2\n",
        "    power_post = np.abs(fft_post)**2\n",
        "    feats['fft_dom_freq_pre'] = np.argmax(power_pre)\n",
        "    feats['fft_dom_freq_post'] = np.argmax(power_post)\n",
        "    feats['fft_dom_power_diff'] = np.max(power_post) - np.max(power_pre)\n",
        "    # Spectral entropy\n",
        "    def spectral_entropy(p):\n",
        "        p = p / (np.sum(p) + eps)\n",
        "        return -np.sum(p * np.log(p + eps))\n",
        "    feats['spectral_entropy_pre'] = spectral_entropy(power_pre)\n",
        "    feats['spectral_entropy_post'] = spectral_entropy(power_post)\n",
        "    # Wavelet energy\n",
        "    coeffs_pre = pywt.wavedec(pre, 'db4', level=3)\n",
        "    coeffs_post = pywt.wavedec(post, 'db4', level=3)\n",
        "    for i, (c_pre, c_post) in enumerate(zip(coeffs_pre, coeffs_post)):\n",
        "        feats[f'wavelet_energy_pre_l{i}'] = np.sum(c_pre**2)\n",
        "        feats[f'wavelet_energy_post_l{i}'] = np.sum(c_post**2)\n",
        "    return feats"
      ]
    },
    {
      "cell_type": "markdown",
      "metadata": {
        "id": "3b9387c0"
      },
      "source": [
        "## 5. Feature Engineering - Change-Point Detection\n",
        "Use ruptures to detect change points and extract algorithmic features."
      ]
    },
    {
      "cell_type": "code",
      "execution_count": null,
      "metadata": {
        "id": "d78f3dde"
      },
      "outputs": [],
      "source": [
        "# Feature Engineering - Change-Point Detection\n",
        "def extract_cp_features(value, boundary):\n",
        "    algo = rpt.Pelt(model='rbf').fit(value)\n",
        "    bkps = algo.predict(pen=10)\n",
        "    closest_cp = min(bkps, key=lambda x: abs(x-boundary)) if bkps else -1\n",
        "    closest_cp_dist = abs(closest_cp-boundary)\n",
        "    is_boundary_detected = int(closest_cp_dist == 0)\n",
        "    cp_strength = algo.cost.sum_of_costs(bkps)\n",
        "    return {\n",
        "        'cp_closest_dist': closest_cp_dist,\n",
        "        'cp_boundary_detected': is_boundary_detected,\n",
        "        'cp_strength': cp_strength\n",
        "    }"
      ]
    },
    {
      "cell_type": "markdown",
      "metadata": {
        "id": "467800a1"
      },
      "source": [
        "## 6. Feature Engineering - Automated Features\n",
        "Apply catch22 and selective tsfresh features for automated time series feature extraction."
      ]
    },
    {
      "cell_type": "code",
      "execution_count": null,
      "metadata": {
        "id": "134d90fe"
      },
      "outputs": [],
      "source": [
        "# Feature Engineering - Automated Features\n",
        "def extract_auto_features(x):\n",
        "    catch22_feats = pycatch22.catch22_all(x)\n",
        "    return {f'catch22_{k}': v for k, v in catch22_feats.items()}\n",
        "# tsfresh omitted for speed; add if needed"
      ]
    },
    {
      "cell_type": "markdown",
      "metadata": {
        "id": "156e19f0"
      },
      "source": [
        "## 7. Feature Selection and Storage\n",
        "Remove constant features, handle correlations, apply feature selection, and save processed features."
      ]
    },
    {
      "cell_type": "code",
      "execution_count": null,
      "metadata": {
        "id": "b0a793fb"
      },
      "outputs": [],
      "source": [
        "# Feature Selection and Storage\n",
        "def select_features(X, y=None):\n",
        "    vt = VarianceThreshold()\n",
        "    X_vt = vt.fit_transform(X)\n",
        "    keep = vt.get_support()\n",
        "    X_sel = X.loc[:, keep]\n",
        "    # Optionally: remove correlated features, use SelectFromModel\n",
        "    return X_sel\n",
        "\n",
        "def save_features(features_df, path):\n",
        "    features_df.to_parquet(path)"
      ]
    },
    {
      "cell_type": "markdown",
      "metadata": {
        "id": "9a4bab4f"
      },
      "source": [
        "## 8. Tabular Model Training (LightGBM)\n",
        "Train LightGBM models with GroupKFold cross-validation and generate out-of-fold predictions."
      ]
    },
    {
      "cell_type": "code",
      "execution_count": null,
      "metadata": {
        "id": "913cafa8"
      },
      "outputs": [],
      "source": [
        "# Tabular Model Training (LightGBM)\n",
        "def train_tabular(X, y, groups, output_dir):\n",
        "    lgb_params = {\n",
        "        'objective': 'binary', 'metric': 'auc', 'boosting_type': 'gbdt',\n",
        "        'learning_rate': 0.03, 'num_leaves': 128, 'min_data_in_leaf': 50,\n",
        "        'feature_fraction': 0.8, 'bagging_fraction': 0.8, 'bagging_freq': 5,\n",
        "        'lambda_l1': 0.5, 'lambda_l2': 1.0, 'n_jobs': 8, 'seed': SEED\n",
        "    }\n",
        "    oof_preds = np.zeros(len(y))\n",
        "    models = []\n",
        "    cv = GroupKFold(n_splits=5)\n",
        "    for fold, (tr, va) in enumerate(cv.split(X, y, groups)):\n",
        "        train_set = lgb.Dataset(X.iloc[tr], y.iloc[tr])\n",
        "        val_set = lgb.Dataset(X.iloc[va], y.iloc[va])\n",
        "        model = lgb.train(lgb_params, train_set, num_boost_round=5000,\n",
        "                          valid_sets=[val_set], early_stopping_rounds=200, verbose_eval=False)\n",
        "        oof_preds[va] = model.predict(X.iloc[va])\n",
        "        models.append(model)\n",
        "    joblib.dump(models, os.path.join(output_dir, 'models/lgb_model.pkl'))\n",
        "    pd.Series(oof_preds, index=y.index).to_parquet(os.path.join(output_dir, 'oof_preds.parquet'))\n",
        "    return models, oof_preds"
      ]
    },
    {
      "cell_type": "markdown",
      "metadata": {
        "id": "bad5a03c"
      },
      "source": [
        "## 9. Deep Learning Model Implementation\n",
        "Implement the two-branch CNN architecture for pre/post segments, including data loaders and training loop."
      ]
    },
    {
      "cell_type": "code",
      "execution_count": null,
      "metadata": {
        "id": "25d495be"
      },
      "outputs": [],
      "source": [
        "# Deep Learning Model Implementation\n",
        "class ConvEncoder(nn.Module):\n",
        "    def __init__(self, in_ch=1, base=32):\n",
        "        super().__init__()\n",
        "        self.net = nn.Sequential(\n",
        "            nn.Conv1d(in_ch, base, kernel_size=7, padding=3),\n",
        "            nn.BatchNorm1d(base), nn.ReLU(), nn.MaxPool1d(2),\n",
        "            nn.Conv1d(base, base*2, kernel_size=5, padding=2),\n",
        "            nn.BatchNorm1d(base*2), nn.ReLU(), nn.MaxPool1d(2),\n",
        "            nn.Conv1d(base*2, base*4, kernel_size=3, padding=1),\n",
        "            nn.BatchNorm1d(base*4), nn.ReLU(), nn.AdaptiveAvgPool1d(1),\n",
        "            nn.Flatten(), nn.Linear(base*4, 128), nn.ReLU()\n",
        "        )\n",
        "    def forward(self, x):\n",
        "        return self.net(x)\n",
        "\n",
        "class TwoBranchCNN(nn.Module):\n",
        "    def __init__(self):\n",
        "        super().__init__()\n",
        "        self.pre_enc = ConvEncoder()\n",
        "        self.post_enc = ConvEncoder()\n",
        "        self.classifier = nn.Sequential(\n",
        "            nn.Linear(256, 128), nn.ReLU(), nn.Dropout(0.4),\n",
        "            nn.Linear(128, 1)\n",
        "        )\n",
        "    def forward(self, x_pre, x_post):\n",
        "        e1 = self.pre_enc(x_pre)\n",
        "        e2 = self.post_enc(x_post)\n",
        "        e = torch.cat([e1, e2], dim=1)\n",
        "        return self.classifier(e).squeeze(1)\n",
        "\n",
        "# Training loop and DataLoader omitted for brevity; see plan for details"
      ]
    },
    {
      "cell_type": "markdown",
      "metadata": {
        "id": "d18556b7"
      },
      "source": [
        "## 10. Cross-Validation Strategy\n",
        "Implement GroupKFold validation, compute ROC AUC, and generate OOF predictions for stacking."
      ]
    },
    {
      "cell_type": "code",
      "execution_count": null,
      "metadata": {
        "id": "e2454de8"
      },
      "outputs": [],
      "source": [
        "# Cross-Validation Strategy\n",
        "def cross_validate(X, y, groups, model_fn):\n",
        "    cv = GroupKFold(n_splits=5)\n",
        "    oof_preds = np.zeros(len(y))\n",
        "    for fold, (tr, va) in enumerate(cv.split(X, y, groups)):\n",
        "        model = model_fn()\n",
        "        # Fit model on X.iloc[tr], y.iloc[tr]; predict on X.iloc[va]\n",
        "        # For LightGBM, use train_tabular; for CNN, use custom loop\n",
        "        # oof_preds[va] = model.predict(X.iloc[va])\n",
        "    return oof_preds"
      ]
    },
    {
      "cell_type": "markdown",
      "metadata": {
        "id": "c7baf4b1"
      },
      "source": [
        "## 11. Ensemble and Stacking\n",
        "Combine base model predictions using meta-learning and weighted averaging."
      ]
    },
    {
      "cell_type": "code",
      "execution_count": null,
      "metadata": {
        "id": "059aeaac"
      },
      "outputs": [],
      "source": [
        "# Ensemble and Stacking\n",
        "def train_stacker(oof_tabular, oof_cnn, y, output_dir):\n",
        "    meta_X = np.vstack([oof_tabular, oof_cnn]).T\n",
        "    meta_model = LogisticRegression(C=1.0, max_iter=1000)\n",
        "    meta_model.fit(meta_X, y)\n",
        "    joblib.dump(meta_model, os.path.join(output_dir, 'models/meta_model.pkl'))\n",
        "    return meta_model\n",
        "\n",
        "def predict_stacker(tabular_preds, cnn_preds, meta_model):\n",
        "    meta_X = np.vstack([tabular_preds, cnn_preds]).T\n",
        "    return meta_model.predict_proba(meta_X)[:,1]"
      ]
    },
    {
      "cell_type": "markdown",
      "metadata": {
        "id": "fef7f179"
      },
      "source": [
        "## 12. Model Artifacts Management\n",
        "Save and load trained models, feature extractors, scalers, and metadata for reproducible inference."
      ]
    },
    {
      "cell_type": "code",
      "execution_count": null,
      "metadata": {
        "id": "deb98258"
      },
      "outputs": [],
      "source": [
        "# Model Artifacts Management\n",
        "def save_model(model, path):\n",
        "    joblib.dump(model, path)\n",
        "def load_model(path):\n",
        "    return joblib.load(path)"
      ]
    },
    {
      "cell_type": "code",
      "source": [],
      "metadata": {
        "id": "sGc9EaONXIJR"
      },
      "execution_count": null,
      "outputs": []
    },
    {
      "cell_type": "code",
      "source": [],
      "metadata": {
        "id": "VN1kpcTkYC0w"
      },
      "execution_count": null,
      "outputs": []
    },
    {
      "cell_type": "markdown",
      "source": [
        "-----------------"
      ],
      "metadata": {
        "id": "3rD6qHm3XGhm"
      }
    },
    {
      "cell_type": "code",
      "source": [],
      "metadata": {
        "id": "VOy5q4wbYDtn"
      },
      "execution_count": null,
      "outputs": []
    },
    {
      "cell_type": "code",
      "source": [],
      "metadata": {
        "id": "ozksxOFaYDdr"
      },
      "execution_count": null,
      "outputs": []
    },
    {
      "cell_type": "markdown",
      "metadata": {
        "id": "9dba8edc"
      },
      "source": [
        "## 13. Train Function Implementation\n",
        "Implement the required train(X_train, y_train, output_dir) function."
      ]
    },
    {
      "cell_type": "code",
      "execution_count": null,
      "metadata": {
        "id": "1988a711"
      },
      "outputs": [],
      "source": [
        "# Train Function Implementation\n",
        "def train(X_train, y_train, output_dir):\n",
        "    os.makedirs(os.path.join(output_dir, 'models'), exist_ok=True)\n",
        "    # 1. Preprocess and extract features\n",
        "    series_dict, _ = read_dataset(X_train)\n",
        "    features = {}\n",
        "    for id_, series in tqdm(series_dict.items()):\n",
        "        proc = preprocess_series(series)\n",
        "        feats = extract_stat_features(proc['x_pre'], proc['x_post'], proc['x_pre_dt'], proc['x_post_dt'])\n",
        "        feats.update(extract_cp_features(series['value'], np.argmax(series['period']==1)))\n",
        "        feats.update(extract_auto_features(series['value']))\n",
        "        feats['len_pre'] = proc['len_pre']\n",
        "        feats['len_post'] = proc['len_post']\n",
        "        feats['n_missing_pre'] = proc['n_missing_pre']\n",
        "        feats['n_missing_post'] = proc['n_missing_post']\n",
        "        features[id_] = feats\n",
        "    features_df = pd.DataFrame.from_dict(features, orient='index')\n",
        "    features_df = select_features(features_df, y_train)\n",
        "    save_features(features_df, os.path.join(output_dir, 'features.parquet'))\n",
        "    # 2. Train tabular model\n",
        "    models, oof_tabular = train_tabular(features_df, y_train, features_df.index, output_dir)\n",
        "    # 3. Train CNN model (omitted for brevity)\n",
        "    oof_cnn = np.zeros_like(oof_tabular) # Placeholder\n",
        "    # 4. Train stacker\n",
        "    meta_model = train_stacker(oof_tabular, oof_cnn, y_train, output_dir)"
      ]
    },
    {
      "cell_type": "markdown",
      "metadata": {
        "id": "1dfd767a"
      },
      "source": [
        "## 14. Infer Function Implementation\n",
        "Implement the required infer(X_test, output_dir) function."
      ]
    },
    {
      "cell_type": "code",
      "execution_count": null,
      "metadata": {
        "id": "cae8bae3"
      },
      "outputs": [],
      "source": [
        "# Infer Function Implementation\n",
        "def infer(X_test, output_dir):\n",
        "    series_dict, _ = read_dataset(X_test)\n",
        "    features = {}\n",
        "    for id_, series in tqdm(series_dict.items()):\n",
        "        proc = preprocess_series(series)\n",
        "        feats = extract_stat_features(proc['x_pre'], proc['x_post'], proc['x_pre_dt'], proc['x_post_dt'])\n",
        "        feats.update(extract_cp_features(series['value'], np.argmax(series['period']==1)))\n",
        "        feats.update(extract_auto_features(series['value']))\n",
        "        feats['len_pre'] = proc['len_pre']\n",
        "        feats['len_post'] = proc['len_post']\n",
        "        feats['n_missing_pre'] = proc['n_missing_pre']\n",
        "        feats['n_missing_post'] = proc['n_missing_post']\n",
        "        features[id_] = feats\n",
        "    features_df = pd.DataFrame.from_dict(features, orient='index')\n",
        "    # Feature selection (use train mask)\n",
        "    train_feats = pd.read_parquet(os.path.join(output_dir, 'features.parquet'))\n",
        "    features_df = features_df[train_feats.columns]\n",
        "    # Load models\n",
        "    models = load_model(os.path.join(output_dir, 'models/lgb_model.pkl'))\n",
        "    tabular_preds = np.mean([m.predict(features_df) for m in models], axis=0)\n",
        "    cnn_preds = np.zeros_like(tabular_preds) # Placeholder\n",
        "    meta_model = load_model(os.path.join(output_dir, 'models/meta_model.pkl'))\n",
        "    final_preds = predict_stacker(tabular_preds, cnn_preds, meta_model)\n",
        "    return pd.Series(final_preds, index=features_df.index)"
      ]
    },
    {
      "cell_type": "code",
      "source": [],
      "metadata": {
        "id": "2B41J5g6YDVu"
      },
      "execution_count": null,
      "outputs": []
    },
    {
      "cell_type": "markdown",
      "source": [
        "----------------------"
      ],
      "metadata": {
        "id": "iiNLfL9HYBJ9"
      }
    },
    {
      "cell_type": "markdown",
      "metadata": {
        "id": "wLfYIXlz-0fT"
      },
      "source": [
        "### The `train()` Function\n",
        "\n",
        "In this function, you build and train your model for making inferences on the test data. Your model must be stored in the `model_directory_path`.\n",
        "\n",
        "The baseline implementation below doesn't require a pre-trained model, as it uses a statistical test that will be computed at inference time."
      ]
    },
    {
      "cell_type": "code",
      "execution_count": null,
      "metadata": {
        "ExecuteTime": {
          "end_time": "2024-11-18T10:04:00.459399Z",
          "start_time": "2024-11-18T10:04:00.455716Z"
        },
        "id": "xQwWDC6M-0fT"
      },
      "outputs": [],
      "source": [
        "def train(\n",
        "    X_train: pd.DataFrame,\n",
        "    y_train: pd.Series,\n",
        "    model_directory_path: str,\n",
        "):\n",
        "    # For our baseline t-test approach, we don't need to train a model\n",
        "    # This is essentially an unsupervised approach calculated at inference time\n",
        "    model = None\n",
        "\n",
        "    # You could enhance this by training an actual model, for example:\n",
        "    # 1. Extract features from before/after segments of each time series\n",
        "    # 2. Train a classifier using these features and y_train labels\n",
        "    # 3. Save the trained model\n",
        "\n",
        "    joblib.dump(model, os.path.join(model_directory_path, 'model.joblib'))"
      ]
    },
    {
      "cell_type": "markdown",
      "metadata": {
        "id": "7n-jboJH-0fU"
      },
      "source": [
        "### The `infer()` Function\n",
        "\n",
        "In the inference function, your trained model (if any) is loaded and used to make predictions on test data.\n",
        "\n",
        "**Important workflow:**\n",
        "1. Load your model;\n",
        "2. Use the `yield` statement to signal readiness to the runner;\n",
        "3. Process each dataset one by one within the for loop;\n",
        "4. For each dataset, use `yield prediction` to return your prediction.\n",
        "\n",
        "**Note:** The datasets can only be iterated once!"
      ]
    },
    {
      "cell_type": "code",
      "execution_count": null,
      "metadata": {
        "ExecuteTime": {
          "end_time": "2024-11-18T10:03:59.120294Z",
          "start_time": "2024-11-18T10:03:59.114830Z"
        },
        "id": "r1b7hRkl-0fU"
      },
      "outputs": [],
      "source": [
        "def infer(\n",
        "    X_test: typing.Iterable[pd.DataFrame],\n",
        "    model_directory_path: str,\n",
        "):\n",
        "    model = joblib.load(os.path.join(model_directory_path, 'model.joblib'))\n",
        "\n",
        "    yield  # Mark as ready\n",
        "\n",
        "    # X_test can only be iterated once.\n",
        "    # Before getting the next dataset, you must predict the current one.\n",
        "    for dataset in X_test:\n",
        "        # Baseline approach: Compute t-test between values before and after boundary point\n",
        "        # The negative p-value is used as our score - smaller p-values (larger negative numbers)\n",
        "        # indicate more evidence against the null hypothesis that distributions are the same,\n",
        "        # suggesting a structural break\n",
        "        def t_test(u: pd.DataFrame):\n",
        "            return -scipy.stats.ttest_ind(\n",
        "                u[\"value\"][u[\"period\"] == 0],  # Values before boundary point\n",
        "                u[\"value\"][u[\"period\"] == 1],  # Values after boundary point\n",
        "            ).pvalue\n",
        "\n",
        "        prediction = t_test(dataset)\n",
        "        yield prediction  # Send the prediction for the current dataset\n",
        "\n",
        "        # Note: This baseline approach uses a t-test to compare the distributions\n",
        "        # before and after the boundary point. A smaller p-value (larger negative number)\n",
        "        # suggests stronger evidence that the distributions are different,\n",
        "        # indicating a potential structural break."
      ]
    },
    {
      "cell_type": "markdown",
      "metadata": {
        "id": "1W0Kl9CA-0fU"
      },
      "source": [
        "## Local testing\n",
        "\n",
        "To make sure your `train()` and `infer()` function are working properly, you can call the `crunch.test()` function that will reproduce the cloud environment locally. <br />\n",
        "Even if it is not perfect, it should give you a quick idea if your model is working properly."
      ]
    },
    {
      "cell_type": "code",
      "execution_count": null,
      "metadata": {
        "id": "tDZeP-4--0fU"
      },
      "outputs": [],
      "source": [
        "crunch.test(\n",
        "    # Uncomment to disable the train\n",
        "    # force_first_train=False,\n",
        "\n",
        "    # Uncomment to disable the determinism check\n",
        "    # no_determinism_check=True,\n",
        ")"
      ]
    },
    {
      "cell_type": "markdown",
      "metadata": {
        "id": "bV_5CKs--0fU"
      },
      "source": [
        "## Results\n",
        "\n",
        "Once the local tester is done, you can preview the result stored in `data/prediction.parquet`."
      ]
    },
    {
      "cell_type": "code",
      "execution_count": null,
      "metadata": {
        "id": "ly5q68sA-0fU"
      },
      "outputs": [],
      "source": [
        "prediction = pd.read_parquet(\"data/prediction.parquet\")\n",
        "prediction"
      ]
    },
    {
      "cell_type": "markdown",
      "metadata": {
        "id": "1oP-NLGh-0fU"
      },
      "source": [
        "### Local scoring\n",
        "\n",
        "You can call the function that the system uses to estimate your score locally."
      ]
    },
    {
      "cell_type": "code",
      "execution_count": null,
      "metadata": {
        "id": "RyCrjpzv-0fU"
      },
      "outputs": [],
      "source": [
        "# Load the targets\n",
        "target = pd.read_parquet(\"data/y_test.reduced.parquet\")[\"structural_breakpoint\"]\n",
        "\n",
        "# Call the scoring function\n",
        "sklearn.metrics.roc_auc_score(\n",
        "    target,\n",
        "    prediction,\n",
        ")"
      ]
    },
    {
      "cell_type": "markdown",
      "metadata": {
        "id": "3AE1i3pR-0fV"
      },
      "source": [
        "# Submit your Notebook\n",
        "\n",
        "To submit your work, you must:\n",
        "1. Download your Notebook from Colab\n",
        "2. Upload it to the platform\n",
        "3. Create a run to validate it\n",
        "\n",
        "### >> https://hub.crunchdao.com/competitions/structural-break/submit/notebook\n",
        "\n",
        "![Download and Submit Notebook](https://raw.githubusercontent.com/crunchdao/competitions/refs/heads/master/documentation/animations/download-and-submit-notebook.gif)"
      ]
    }
  ],
  "metadata": {
    "colab": {
      "provenance": []
    },
    "kernelspec": {
      "display_name": "Python 3",
      "language": "python",
      "name": "python3"
    },
    "language_info": {
      "codemirror_mode": {
        "name": "ipython",
        "version": 3
      },
      "file_extension": ".py",
      "mimetype": "text/x-python",
      "name": "python",
      "nbconvert_exporter": "python",
      "pygments_lexer": "ipython3",
      "version": "3.10.11"
    }
  },
  "nbformat": 4,
  "nbformat_minor": 0
}